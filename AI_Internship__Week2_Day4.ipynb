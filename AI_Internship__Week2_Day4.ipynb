!pip install python-dotenv
!pip install gradio
